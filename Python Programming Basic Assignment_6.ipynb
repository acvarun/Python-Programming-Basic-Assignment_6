{
 "cells": [
  {
   "cell_type": "code",
   "execution_count": 1,
   "id": "8f2a0a20",
   "metadata": {},
   "outputs": [
    {
     "name": "stdout",
     "output_type": "stream",
     "text": [
      "7\n",
      "0\n",
      "1\n",
      "1\n",
      "2\n",
      "3\n",
      "5\n",
      "8\n"
     ]
    }
   ],
   "source": [
    "#1.\tWrite a Python Program to Display Fibonacci Sequence Using Recursion?\n",
    "def fun(n):\n",
    "    i=1\n",
    "    j=1\n",
    "    if n<=1:\n",
    "        return n\n",
    "    else :\n",
    "        return fun(n-1)+fun(n-2)\n",
    "n=int(input())\n",
    "for i in range(n):\n",
    "    print(fun(i))"
   ]
  },
  {
   "cell_type": "code",
   "execution_count": 2,
   "id": "f79aa343",
   "metadata": {},
   "outputs": [
    {
     "name": "stdout",
     "output_type": "stream",
     "text": [
      "5\n",
      "Fact= 120\n"
     ]
    }
   ],
   "source": [
    "#2.\tWrite a Python Program to Find Factorial of Number Using Recursion?\n",
    "def fun1(n):\n",
    "    if n<=1:\n",
    "        return 1\n",
    "    else :\n",
    "        return n*fun1(n-1)\n",
    "n=int(input())\n",
    "print(\"Fact=\",n*fun1(n-1))"
   ]
  },
  {
   "cell_type": "code",
   "execution_count": 27,
   "id": "96cbb1ac",
   "metadata": {},
   "outputs": [
    {
     "name": "stdout",
     "output_type": "stream",
     "text": [
      "Enter weight in kg:70\n",
      "Enter height in m:1.8\n",
      "Your body mass index is: 21.604938271604937\n"
     ]
    }
   ],
   "source": [
    "#3.\tWrite a Python Program to calculate your Body Mass Index?\n",
    "w=float(input(\"Enter weight in kg:\"))\n",
    "h=float(input(\"Enter height in m:\"))\n",
    "BMI=w/(h**2)\n",
    "print(\"Your body mass index is:\",BMI)"
   ]
  },
  {
   "cell_type": "code",
   "execution_count": 30,
   "id": "82a257f4",
   "metadata": {},
   "outputs": [
    {
     "name": "stdout",
     "output_type": "stream",
     "text": [
      "Enter a number:5\n",
      "natuarl logarithm: 1.6094379124341003\n"
     ]
    }
   ],
   "source": [
    "#4.\tWrite a Python Program to calculate the natural logarithm of any number?\n",
    "import math\n",
    "n=int(input(\"Enter a number:\"))\n",
    "print(\"natuarl logarithm:\",math.log(n))"
   ]
  },
  {
   "cell_type": "code",
   "execution_count": 32,
   "id": "d9202caf",
   "metadata": {},
   "outputs": [
    {
     "name": "stdout",
     "output_type": "stream",
     "text": [
      "Enter total number:10\n",
      "sum 3025.0\n"
     ]
    }
   ],
   "source": [
    "#5.\tWrite a Python Program for cube sum of first n natural numbers?\n",
    "n=int(input(\"Enter total number:\"))\n",
    "s=((n**2)*((n+1)**2))/4\n",
    "print(\"sum\",s)"
   ]
  },
  {
   "cell_type": "code",
   "execution_count": null,
   "id": "5567c72a",
   "metadata": {},
   "outputs": [],
   "source": []
  }
 ],
 "metadata": {
  "kernelspec": {
   "display_name": "Python 3 (ipykernel)",
   "language": "python",
   "name": "python3"
  },
  "language_info": {
   "codemirror_mode": {
    "name": "ipython",
    "version": 3
   },
   "file_extension": ".py",
   "mimetype": "text/x-python",
   "name": "python",
   "nbconvert_exporter": "python",
   "pygments_lexer": "ipython3",
   "version": "3.9.7"
  }
 },
 "nbformat": 4,
 "nbformat_minor": 5
}
